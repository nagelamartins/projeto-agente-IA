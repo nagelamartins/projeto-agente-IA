{
  "nbformat": 4,
  "nbformat_minor": 0,
  "metadata": {
    "colab": {
      "provenance": []
    },
    "kernelspec": {
      "name": "python3",
      "display_name": "Python 3"
    },
    "language_info": {
      "name": "python"
    }
  },
  "cells": [
    {
      "cell_type": "code",
      "execution_count": 2,
      "metadata": {
        "id": "kml8QjQy99bX"
      },
      "outputs": [],
      "source": [
        "# Importando bibliotecas\n",
        "!pip -q install google-genai"
      ]
    },
    {
      "cell_type": "code",
      "source": [
        "# Configurando a API Key do Google Gemini\n",
        "\n",
        "import os\n",
        "from google.colab import userdata\n",
        "\n",
        "os.environ[\"GOOGLE_API_KEY\"] = userdata.get('GOOGLE_API_KEY')"
      ],
      "metadata": {
        "id": "v2Oaso-v-Hie"
      },
      "execution_count": 3,
      "outputs": []
    },
    {
      "cell_type": "code",
      "source": [
        "# Configurando o cliente da SDK do Gemini\n",
        "\n",
        "from google import genai\n",
        "\n",
        "client = genai.Client()\n",
        "\n",
        "MODEL_ID = \"gemini-2.0-flash\""
      ],
      "metadata": {
        "id": "dFjze3nR-Qdu"
      },
      "execution_count": 23,
      "outputs": []
    },
    {
      "cell_type": "code",
      "source": [
        "# Instalando o Framework de agentes do Google\n",
        "!pip install -q google-adk"
      ],
      "metadata": {
        "colab": {
          "base_uri": "https://localhost:8080/"
        },
        "id": "vOyZCpUJ-a19",
        "outputId": "5d2d54ab-9a62-4500-9f16-a71a2057900f"
      },
      "execution_count": 5,
      "outputs": [
        {
          "output_type": "stream",
          "name": "stdout",
          "text": [
            "\u001b[?25l   \u001b[90m━━━━━━━━━━━━━━━━━━━━━━━━━━━━━━━━━━━━━━━━\u001b[0m \u001b[32m0.0/1.2 MB\u001b[0m \u001b[31m?\u001b[0m eta \u001b[36m-:--:--\u001b[0m\r\u001b[2K   \u001b[91m━━━━━━━━━━━━━━━\u001b[0m\u001b[91m╸\u001b[0m\u001b[90m━━━━━━━━━━━━━━━━━━━━━━━━\u001b[0m \u001b[32m0.5/1.2 MB\u001b[0m \u001b[31m13.6 MB/s\u001b[0m eta \u001b[36m0:00:01\u001b[0m\r\u001b[2K   \u001b[90m━━━━━━━━━━━━━━━━━━━━━━━━━━━━━━━━━━━━━━━━\u001b[0m \u001b[32m1.2/1.2 MB\u001b[0m \u001b[31m17.1 MB/s\u001b[0m eta \u001b[36m0:00:00\u001b[0m\n",
            "\u001b[?25h\u001b[?25l   \u001b[90m━━━━━━━━━━━━━━━━━━━━━━━━━━━━━━━━━━━━━━━━\u001b[0m \u001b[32m0.0/232.1 kB\u001b[0m \u001b[31m?\u001b[0m eta \u001b[36m-:--:--\u001b[0m\r\u001b[2K   \u001b[90m━━━━━━━━━━━━━━━━━━━━━━━━━━━━━━━━━━━━━━━━\u001b[0m \u001b[32m232.1/232.1 kB\u001b[0m \u001b[31m15.2 MB/s\u001b[0m eta \u001b[36m0:00:00\u001b[0m\n",
            "\u001b[?25h\u001b[?25l   \u001b[90m━━━━━━━━━━━━━━━━━━━━━━━━━━━━━━━━━━━━━━━━\u001b[0m \u001b[32m0.0/95.2 kB\u001b[0m \u001b[31m?\u001b[0m eta \u001b[36m-:--:--\u001b[0m\r\u001b[2K   \u001b[90m━━━━━━━━━━━━━━━━━━━━━━━━━━━━━━━━━━━━━━━━\u001b[0m \u001b[32m95.2/95.2 kB\u001b[0m \u001b[31m6.1 MB/s\u001b[0m eta \u001b[36m0:00:00\u001b[0m\n",
            "\u001b[2K   \u001b[90m━━━━━━━━━━━━━━━━━━━━━━━━━━━━━━━━━━━━━━━━\u001b[0m \u001b[32m217.1/217.1 kB\u001b[0m \u001b[31m13.0 MB/s\u001b[0m eta \u001b[36m0:00:00\u001b[0m\n",
            "\u001b[2K   \u001b[90m━━━━━━━━━━━━━━━━━━━━━━━━━━━━━━━━━━━━━━━━\u001b[0m \u001b[32m334.1/334.1 kB\u001b[0m \u001b[31m22.0 MB/s\u001b[0m eta \u001b[36m0:00:00\u001b[0m\n",
            "\u001b[2K   \u001b[90m━━━━━━━━━━━━━━━━━━━━━━━━━━━━━━━━━━━━━━━━\u001b[0m \u001b[32m125.1/125.1 kB\u001b[0m \u001b[31m9.0 MB/s\u001b[0m eta \u001b[36m0:00:00\u001b[0m\n",
            "\u001b[2K   \u001b[90m━━━━━━━━━━━━━━━━━━━━━━━━━━━━━━━━━━━━━━━━\u001b[0m \u001b[32m65.8/65.8 kB\u001b[0m \u001b[31m4.5 MB/s\u001b[0m eta \u001b[36m0:00:00\u001b[0m\n",
            "\u001b[2K   \u001b[90m━━━━━━━━━━━━━━━━━━━━━━━━━━━━━━━━━━━━━━━━\u001b[0m \u001b[32m119.0/119.0 kB\u001b[0m \u001b[31m7.8 MB/s\u001b[0m eta \u001b[36m0:00:00\u001b[0m\n",
            "\u001b[2K   \u001b[90m━━━━━━━━━━━━━━━━━━━━━━━━━━━━━━━━━━━━━━━━\u001b[0m \u001b[32m194.9/194.9 kB\u001b[0m \u001b[31m12.5 MB/s\u001b[0m eta \u001b[36m0:00:00\u001b[0m\n",
            "\u001b[2K   \u001b[90m━━━━━━━━━━━━━━━━━━━━━━━━━━━━━━━━━━━━━━━━\u001b[0m \u001b[32m62.5/62.5 kB\u001b[0m \u001b[31m3.7 MB/s\u001b[0m eta \u001b[36m0:00:00\u001b[0m\n",
            "\u001b[2K   \u001b[90m━━━━━━━━━━━━━━━━━━━━━━━━━━━━━━━━━━━━━━━━\u001b[0m \u001b[32m103.3/103.3 kB\u001b[0m \u001b[31m6.7 MB/s\u001b[0m eta \u001b[36m0:00:00\u001b[0m\n",
            "\u001b[2K   \u001b[90m━━━━━━━━━━━━━━━━━━━━━━━━━━━━━━━━━━━━━━━━\u001b[0m \u001b[32m44.4/44.4 kB\u001b[0m \u001b[31m2.6 MB/s\u001b[0m eta \u001b[36m0:00:00\u001b[0m\n",
            "\u001b[2K   \u001b[90m━━━━━━━━━━━━━━━━━━━━━━━━━━━━━━━━━━━━━━━━\u001b[0m \u001b[32m72.0/72.0 kB\u001b[0m \u001b[31m4.4 MB/s\u001b[0m eta \u001b[36m0:00:00\u001b[0m\n",
            "\u001b[?25h"
          ]
        }
      ]
    },
    {
      "cell_type": "code",
      "source": [
        "from google.adk.agents import Agent\n",
        "from google.adk.runners import Runner\n",
        "from google.adk.sessions import InMemorySessionService\n",
        "from google.adk.tools import google_search\n",
        "from google.genai import types  # Para criar conteúdos (Content e Part)\n",
        "from datetime import date\n",
        "import textwrap # Para formatar melhor a saída de texto\n",
        "from IPython.display import display, Markdown # Para exibir texto formatado no Colab\n",
        "import requests # Para fazer requisições HTTP\n",
        "import warnings\n",
        "\n",
        "warnings.filterwarnings(\"ignore\")"
      ],
      "metadata": {
        "id": "CvQ0GCGJ-ix9"
      },
      "execution_count": 6,
      "outputs": []
    },
    {
      "cell_type": "code",
      "source": [
        "# ----- FUNÇÕES AUXILIARES -----\n",
        "# Função auxiliar que envia uma mensagem para um agente via Runner e retorna a resposta final\n",
        "def call_agent(agent: Agent, message_text: str) -> str:\n",
        "    # Cria um serviço de sessão em memória\n",
        "    session_service = InMemorySessionService()\n",
        "    # Cria uma nova sessão (você pode personalizar os IDs conforme necessário)\n",
        "    session = session_service.create_session(app_name=agent.name, user_id=\"user1\", session_id=\"session1\")\n",
        "    # Cria um Runner para o agente\n",
        "    runner = Runner(agent=agent, app_name=agent.name, session_service=session_service)\n",
        "    # Cria o conteúdo da mensagem de entrada\n",
        "    content = types.Content(role=\"user\", parts=[types.Part(text=message_text)])\n",
        "\n",
        "    final_response = \"\"\n",
        "    # Itera assincronamente pelos eventos retornados durante a execução do agente\n",
        "    for event in runner.run(user_id=\"user1\", session_id=\"session1\", new_message=content):\n",
        "        if event.is_final_response():\n",
        "          for part in event.content.parts:\n",
        "            if part.text is not None:\n",
        "              final_response += part.text\n",
        "              final_response += \"\\n\"\n",
        "    return final_response\n",
        "\n",
        "# Função auxiliar para exibir texto formatado em Markdown no Colab\n",
        "def to_markdown(text):\n",
        "  text = text.replace('•', '  *')\n",
        "  return Markdown(textwrap.indent(text, '> ', predicate=lambda _: True))"
      ],
      "metadata": {
        "id": "pF2iYm1B-qa-"
      },
      "execution_count": 7,
      "outputs": []
    },
    {
      "cell_type": "code",
      "source": [
        "##########################################\n",
        "# --- Agente 1: Curador de recursos --- #\n",
        "##########################################\n",
        "\n",
        "def agente_curador_recursos(topico)\n",
        "    agente_curador = Agent(\n",
        "        name=\"agente_curador\",\n",
        "        model= MODEL_ID,\n",
        "        instruction=\"\"\"\n",
        "        Você é um especialista em encontrar os melhores e mais confiáveis recursos online para estudo.\n",
        "        Sua tarefa é receber um tópico de estudo do usuário e, usando a ferramenta de busca do Google (Google_search),\n",
        "        encontrar e listar 3 a 5 links relevantes para artigos, vídeos, tutoriais ou explicações\n",
        "        que ajudem o usuário a aprender sobre o tópico.\n",
        "\n",
        "        **Priorize fontes de alta qualidade e autoridade no assunto.\n",
        "        ** Procure por:\n",
        "        * Artigos acadêmicos ou de pesquisa: De universidades, institutos de pesquisa ou periódicos científicos.\n",
        "        * Sites de instituições de ensino: Universidades, escolas, plataformas educacionais renomadas.\n",
        "        * Livros didáticos ou e-books reconhecidos: Se puder encontrar links para acesso ou informações sobre eles.\n",
        "        * Canais educativos renomados no YouTube ou outras plataformas: Canais de professores, universidades, ou portais de ciência/educação.\n",
        "        * **Evite:** Blogs pessoais sem referência, fóruns de discussão (a menos que sejam de especialistas), sites de notícias generalistas (a menos que citem fontes primárias).\n",
        "\n",
        "        Formate sua resposta como uma lista numerada de links, cada um com uma breve descrição do que o recurso oferece.\n",
        "        Exemplo:\n",
        "        1. [Título do Artigo] - Breve descrição do conteúdo (URL do Artigo)\n",
        "        2. [Título do Vídeo] - Explica sobre X assunto (URL do Vídeo)\n",
        "        \"\"\",\n",
        "        description=\"Agente que encontra e lista recursos online (artigos, vídeos, tutoriais) sobre um tópico de estudo, priorizando fontes confiáveis.\",\n",
        "        tools=[google_search]\n",
        "    )\n",
        "    entrada_agente_curador = f\"Tópico que quero estudar: {topico}\"\n",
        "    recursos_encontrados_string = call_agent(agente_curador, entrada_agente_curador)\n",
        "    return recursos_encontrados_string"
      ],
      "metadata": {
        "id": "F54Wd7cO-uHS"
      },
      "execution_count": 21,
      "outputs": []
    },
    {
      "cell_type": "code",
      "source": [
        "######################################\n",
        "# --- Agente 2: Planejador de foco --- #\n",
        "######################################\n",
        "\n",
        "def agente_planejador_foco(tempo_total, recursos_encontrados_string):\n",
        "    agente_planejador = Agent(\n",
        "        name=\"agente_planejador_foco\",\n",
        "        model= MODEL_ID,\n",
        "        instruction=\"\"\"\n",
        "        Você é um mestre da produtividade e um planejador de sessões de estudo.\n",
        "        Sua tarefa é receber uma lista de recursos de estudo (links e descrições)\n",
        "        e o tempo total disponível do usuário para estudar (ex: \"2 horas\", \"45 minutos\").\n",
        "\n",
        "        Com base nesses dados, crie um plano de estudo detalhado, dividindo o tempo em \"sprints\" focadas\n",
        "        (sugestão: 25 minutos de estudo intenso + 5 minutos de pausa, estilo Pomodoro),\n",
        "        alocando os recursos para cada sprint. Tente distribuir os recursos de forma lógica e\n",
        "        sugira o que o usuário deve fazer em cada sprint (ex: \"Sprint 1: Ler o Artigo X\").\n",
        "\n",
        "         **Ao planejar, considere a duração estimada dos recursos, como vídeos, e aloque tempo suficiente para eles nas sprints.\n",
        "         **Se um vídeo tem 15 minutos, por exemplo, ele deve ocupar uma parte proporcional da sprint.\n",
        "\n",
        "        Formate o plano de forma clara, usando cabeçalhos para cada sprint e bullet points.\n",
        "        Adicione um toque motivacional ou um pequeno \"desafio\" no final do plano para encorajar o usuário.\n",
        "\n",
        "        Exemplo de formato:\n",
        "        --- Plano de Estudo Focado ---\n",
        "        Tempo Total Disponível: [Tempo do Usuário]\n",
        "\n",
        "        Sprint 1 (25 min de estudo + 5 min de pausa):\n",
        "        * Objetivo: Ler o Artigo sobre [Assunto] (link: https://pt.wikipedia.org/wiki/Artigo_%28gram%C3%A1tica%29)\n",
        "        * Foco: Compreender os conceitos básicos de...\n",
        "\n",
        "        Sprint 2 (25 min de estudo + 5 min de pausa):\n",
        "        * Objetivo: Assistir o vídeo sobre [Assunto] (link: https://www.youtube.com/letsdovideo)\n",
        "        * Foco: Anotar pontos chave e exemplos.\n",
        "\n",
        "        [... outras sprints ...]\n",
        "\n",
        "\n",
        "        Acrescente um Desafio Bônus ao final e uma frase encorajadora.\n",
        "        Por exemplo:\n",
        "        Desafio Bônus: Ao final, tente explicar o conceito principal para si mesmo em voz alta!\n",
        "        Não desanime! É aos poucos que o conhecimento é construído! 💪\n",
        "        \"\"\",\n",
        "        description=\"Agente que cria planos de estudo focados em 'sprints' com base em recursos e tempo disponível.\",\n",
        "        tools=[]\n",
        "        )\n",
        "\n",
        "    entrada_agente_planejador = f\"\"\" Recursos de estudo: {recursos_encontrados_string}\n",
        "    Tempo total disponível: {tempo_total}\n",
        "    \"\"\"\n",
        "    sprints = call_agent(agente_planejador, entrada_agente_planejador)\n",
        "    return sprints\n"
      ],
      "metadata": {
        "id": "jVj4b20GBF2q"
      },
      "execution_count": 25,
      "outputs": []
    },
    {
      "cell_type": "code",
      "source": [
        "# ---- LÓGICA DO SISTEMA DE AGENTES ----\n",
        "\n",
        "print(\"Olá! Vamos criar seu Guia de Estudo Focado. 🎯📚\")\n",
        "\n",
        "topico = input(\"Qual tópico você gostaria de estudar hoje? (ex: 'Python para iniciantes'): \")\n",
        "tempo_total = input(\"Quanto tempo você tem para estudar hoje? (ex: '2 horas', '1 hora e 45 minutos'): \")\n",
        "\n",
        "\n",
        "if not topico:\n",
        "    print(\"Você esqueceu de digitar o tópico! Por favor, tente novamente.\")\n",
        "elif not tempo_total:\n",
        "    print(\"Você esqueceu de digitar o tempo de estudo! Por favor, tente novamente.\")\n",
        "else:\n",
        "    print(f\"\\nÓtimo! Vamos buscar recursos online sobre '{topico}' e criar um plano de {tempo_total} para te auxiliar nos estudos!\")\n",
        "\n",
        "    try:\n",
        "        recursos_encontrados_string = agente_curador_recursos(topico)\n",
        "\n",
        "        print(\"\\n--- 📚 Aqui estão os recursos que encontrei para você: ---\\n\")\n",
        "        display(to_markdown(recursos_encontrados_string))\n",
        "        print(\"--------------------------------------------------------------\")\n",
        "\n",
        "        # Pequena validação: Se não houver recursos, não faz sentido gerar o plano\n",
        "        if not recursos_encontrados_string or len(recursos_encontrados_string.strip()) < 20:\n",
        "            print(\"\\n⚠️ Não foi possível encontrar recursos suficientes. O plano de estudo não será gerado.\")\n",
        "            print(\"Tente um tópico de estudo diferente ou verifique sua API Key/conexão.\")\n",
        "        else:\n",
        "            print(f\"\\nGerando seu plano de estudo focado para {tempo_total}...\")\n",
        "\n",
        "            # Chamando o Agente Planejador de Foco\n",
        "            plano_final_string = agente_planejador_foco(tempo_total, recursos_encontrados_string)\n",
        "\n",
        "            print(\"\\n--- Seu Plano de Estudo Focado ---\")\n",
        "            display(to_markdown(plano_final_string))\n",
        "            print(\"--------------------------------------------------------------\")\n",
        "\n",
        "        print(\"\\n--- Processo Concluído! Bons estudos! ✨ ---\")\n",
        "\n",
        "    except Exception as e:\n",
        "        print(f\"\\n⛔ Ocorreu um erro inesperado: {e}\")\n",
        "        print(\"Isso pode ser um problema com a API, sua conexão ou nas instruções dos agentes. Tente novamente.\")\n",
        "\n",
        "\n"
      ],
      "metadata": {
        "colab": {
          "base_uri": "https://localhost:8080/",
          "height": 1000
        },
        "id": "KeYbnnxODNaI",
        "outputId": "ee1ba27c-c7d4-4f79-eacc-edb4f30b4010"
      },
      "execution_count": 26,
      "outputs": [
        {
          "output_type": "stream",
          "name": "stdout",
          "text": [
            "Olá! Vamos criar seu Guia de Estudo Focado. 🎯📚\n",
            "Qual tópico você gostaria de estudar hoje? (ex: 'Python para iniciantes'): Agentes de IA\n",
            "Quanto tempo você tem para estudar hoje? (ex: '2 horas', '1 hora e 45 minutos'): 2 horas e 40 minutos\n",
            "\n",
            "Ótimo! Vamos buscar recursos online sobre 'Agentes de IA' e criar um plano de 2 horas e 40 minutos para te auxiliar nos estudos!\n",
            "\n",
            "--- 📚 Aqui estão os recursos que encontrei para você: ---\n",
            "\n"
          ]
        },
        {
          "output_type": "display_data",
          "data": {
            "text/plain": [
              "<IPython.core.display.Markdown object>"
            ],
            "text/markdown": "> Para te ajudar a estudar sobre Agentes de IA, procurei por recursos confiáveis e relevantes. Aqui estão algumas sugestões:\n> \n> \n> Com base na minha pesquisa, aqui estão alguns recursos que podem te ajudar a estudar sobre Agentes de IA:\n> \n> 1.  **Agentes de IA - Princípios e Fundamentos - Udemy:** Este curso na Udemy oferece uma introdução rápida e direta aos Agentes de IA, abordando seu funcionamento, arquitetura e impacto no futuro do trabalho e das organizações. \\[1]\n> 2.  **Tutorial Prático - Aprenda a Criar Agente de IA em 2025 - YouTube:** Neste vídeo no YouTube, você aprenderá passo a passo como criar seu primeiro Agente de Inteligência Artificial, desde os conceitos básicos até a otimização do desempenho do seu agente. \\[4]\n> 3.  **O que são AGENTES de IA: APRENDA do ZERO! - YouTube:** Este vídeo no YouTube explica o conceito de Agentes de IA do zero, diferenciando-os de outras IAs e mostrando como diversas plataformas possibilitam sua criação. \\[6]\n> 4.  **Curso Agentes IA Gratuito para Iniciantes 2025 | Do Zero ao Agente IA - YouTube:** Este curso gratuito no YouTube ensina como criar um agente inteligente que organiza e gerencia seus eventos de forma automatizada, utilizando ferramentas como n8n e Telegram. \\[14]\n> 5.  **Artigos sobre agentes de IA | DataCamp:** Explore como as estruturas de agentes de IA permitem fluxos de trabalho autônomos, desde configurações de agente único até orquestração complexa de vários agentes. \\[19]\n> \n> Espero que esses recursos te ajudem a começar seus estudos sobre Agentes de IA!\n> \n"
          },
          "metadata": {}
        },
        {
          "output_type": "stream",
          "name": "stdout",
          "text": [
            "--------------------------------------------------------------\n",
            "\n",
            "Gerando seu plano de estudo focado para 2 horas e 40 minutos...\n",
            "\n",
            "--- Seu Plano de Estudo Focado ---\n"
          ]
        },
        {
          "output_type": "display_data",
          "data": {
            "text/plain": [
              "<IPython.core.display.Markdown object>"
            ],
            "text/markdown": "> --- Plano de Estudo Focado em Agentes de IA ---\n> Tempo Total Disponível: 2 horas e 40 minutos\n> \n> Sprint 1 (25 min de estudo + 5 min de pausa):\n> * Objetivo: Iniciar com o curso \"Agentes de IA - Princípios e Fundamentos\" na Udemy.\n> * Foco: Absorver os conceitos básicos e entender a arquitetura dos Agentes de IA.\n> \n> Sprint 2 (25 min de estudo + 5 min de pausa):\n> * Objetivo: Continuar o curso da Udemy.\n> * Foco: Identificar o impacto dos Agentes de IA no futuro do trabalho e das organizações.\n> \n> Sprint 3 (25 min de estudo + 5 min de pausa):\n> * Objetivo: Assistir ao vídeo \"O que são AGENTES de IA: APRENDA do ZERO!\" no YouTube.\n> * Foco: Diferenciar Agentes de IA de outras IAs e entender as plataformas para sua criação.\n> \n> Sprint 4 (25 min de estudo + 5 min de pausa):\n> * Objetivo: Explorar o tutorial \"Aprenda a Criar Agente de IA em 2025\" no YouTube.\n> * Foco: Anotar os passos práticos para criar um Agente de IA e entender a otimização do desempenho.\n> \n> Sprint 5 (25 min de estudo + 5 min de pausa):\n> * Objetivo: Começar o curso gratuito \"Curso Agentes IA Gratuito para Iniciantes 2025\" no YouTube.\n> * Foco: Aprender a criar um agente inteligente para organizar eventos usando n8n e Telegram.\n> \n> Sprint 6 (25 min de estudo + 5 min de pausa):\n> * Objetivo: Continuar o curso gratuito no YouTube.\n> * Foco: Aprofundar o conhecimento nas ferramentas n8n e Telegram para automação.\n> \n> Desafio Bônus: Após cada vídeo, tente resumir os principais pontos em poucas frases. Isso ajudará na fixação do conteúdo!\n> Não desanime! Cada passo te aproxima do domínio dos Agentes de IA! 💪\n> \n"
          },
          "metadata": {}
        },
        {
          "output_type": "stream",
          "name": "stdout",
          "text": [
            "--------------------------------------------------------------\n",
            "\n",
            "--- Processo Concluído! Bons estudos! ✨ ---\n"
          ]
        }
      ]
    }
  ]
}